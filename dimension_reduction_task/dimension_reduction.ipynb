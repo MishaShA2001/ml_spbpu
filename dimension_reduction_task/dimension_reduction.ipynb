{
 "cells": [
  {
   "cell_type": "markdown",
   "id": "d1433b93",
   "metadata": {},
   "source": [
    "# Импорт необходимых объектов"
   ]
  },
  {
   "cell_type": "code",
   "execution_count": 1,
   "id": "8c33fc17",
   "metadata": {},
   "outputs": [],
   "source": [
    "from warnings import filterwarnings\n",
    "filterwarnings('ignore')\n",
    "\n",
    "# Dataset\n",
    "from sklearn.datasets import load_digits\n",
    "\n",
    "# Split\n",
    "from sklearn.model_selection import train_test_split\n",
    "\n",
    "# Models\n",
    "from sklearn.svm import SVC\n",
    "from sklearn.linear_model import LogisticRegression\n",
    "from sklearn.tree import DecisionTreeClassifier\n",
    "\n",
    "# Dimension reduction\n",
    "from sklearn.decomposition import PCA\n",
    "from sklearn.manifold import TSNE\n",
    "\n",
    "# Metrics\n",
    "from sklearn.metrics import classification_report\n",
    "\n",
    "# Time\n",
    "from time import time"
   ]
  },
  {
   "cell_type": "markdown",
   "id": "863ea19f",
   "metadata": {},
   "source": [
    "# Параметры"
   ]
  },
  {
   "cell_type": "code",
   "execution_count": 2,
   "id": "29c37684",
   "metadata": {},
   "outputs": [],
   "source": [
    "random_state = 42\n",
    "test_size = 0.20"
   ]
  },
  {
   "cell_type": "markdown",
   "id": "e19ca7d6",
   "metadata": {},
   "source": [
    "# Исходные данные"
   ]
  },
  {
   "cell_type": "code",
   "execution_count": 3,
   "id": "4cfc1ecd",
   "metadata": {},
   "outputs": [],
   "source": [
    "digits = load_digits()\n",
    "X = digits.data\n",
    "y = digits.target"
   ]
  },
  {
   "cell_type": "markdown",
   "id": "6dcf3484",
   "metadata": {},
   "source": [
    "# 1. Обучение моделей SVM, logisitic regression, decision tree на исходных данных"
   ]
  },
  {
   "cell_type": "code",
   "execution_count": 4,
   "id": "67af7b64",
   "metadata": {},
   "outputs": [],
   "source": [
    "X_train, X_test, y_train, y_test = train_test_split(X, y, test_size=test_size,  \n",
    "                                                    random_state=random_state)"
   ]
  },
  {
   "cell_type": "code",
   "execution_count": 5,
   "id": "e9135d12",
   "metadata": {},
   "outputs": [
    {
     "name": "stdout",
     "output_type": "stream",
     "text": [
      "SVM \n",
      "               precision    recall  f1-score   support\n",
      "\n",
      "           0       1.00      1.00      1.00        33\n",
      "           1       1.00      1.00      1.00        28\n",
      "           2       1.00      1.00      1.00        33\n",
      "           3       1.00      1.00      1.00        34\n",
      "           4       1.00      1.00      1.00        46\n",
      "           5       0.98      0.98      0.98        47\n",
      "           6       0.97      1.00      0.99        35\n",
      "           7       0.97      0.97      0.97        34\n",
      "           8       1.00      0.97      0.98        30\n",
      "           9       0.95      0.95      0.95        40\n",
      "\n",
      "    accuracy                           0.99       360\n",
      "   macro avg       0.99      0.99      0.99       360\n",
      "weighted avg       0.99      0.99      0.99       360\n",
      "\n",
      "Logistic regression \n",
      "               precision    recall  f1-score   support\n",
      "\n",
      "           0       1.00      1.00      1.00        33\n",
      "           1       0.97      1.00      0.98        28\n",
      "           2       0.97      1.00      0.99        33\n",
      "           3       0.97      0.97      0.97        34\n",
      "           4       1.00      0.96      0.98        46\n",
      "           5       0.92      0.94      0.93        47\n",
      "           6       0.94      0.97      0.96        35\n",
      "           7       1.00      0.97      0.99        34\n",
      "           8       0.97      0.97      0.97        30\n",
      "           9       0.97      0.95      0.96        40\n",
      "\n",
      "    accuracy                           0.97       360\n",
      "   macro avg       0.97      0.97      0.97       360\n",
      "weighted avg       0.97      0.97      0.97       360\n",
      "\n",
      "Decision tree \n",
      "               precision    recall  f1-score   support\n",
      "\n",
      "           0       0.97      0.88      0.92        33\n",
      "           1       0.85      0.79      0.81        28\n",
      "           2       0.86      0.73      0.79        33\n",
      "           3       0.76      0.85      0.81        34\n",
      "           4       0.84      0.91      0.87        46\n",
      "           5       0.89      0.85      0.87        47\n",
      "           6       0.97      0.91      0.94        35\n",
      "           7       0.82      0.91      0.86        34\n",
      "           8       0.75      0.70      0.72        30\n",
      "           9       0.75      0.82      0.79        40\n",
      "\n",
      "    accuracy                           0.84       360\n",
      "   macro avg       0.84      0.84      0.84       360\n",
      "weighted avg       0.85      0.84      0.84       360\n",
      "\n"
     ]
    }
   ],
   "source": [
    "models = {\n",
    "    'SVM': SVC(random_state=random_state),\n",
    "    'Logistic regression': LogisticRegression(random_state=random_state),\n",
    "    'Decision tree': DecisionTreeClassifier(random_state=random_state)\n",
    "}\n",
    "\n",
    "# Train, predict and show results\n",
    "for model_name, model_object in models.items():\n",
    "    model_object.fit(X_train, y_train)\n",
    "    y_predict = model_object.predict(X_test)\n",
    "    print(model_name, '\\n', classification_report(y_test, y_predict))"
   ]
  },
  {
   "cell_type": "markdown",
   "id": "91faf83d",
   "metadata": {},
   "source": [
    "# 2. Использование алгоритмов PCA и t-SNE для снижения размерности"
   ]
  },
  {
   "cell_type": "code",
   "execution_count": 6,
   "id": "c9189c5f",
   "metadata": {},
   "outputs": [],
   "source": [
    "dimension_reduction_tools = {\n",
    "    'PCA': PCA(n_components=0.90, random_state=random_state),\n",
    "    't-SNE': TSNE(random_state=random_state)\n",
    "}\n",
    "\n",
    "# Get X processed with time\n",
    "X_processed = {}\n",
    "processing_time = {}\n",
    "for tool_name in dimension_reduction_tools.keys():\n",
    "    start_time = time()\n",
    "    \n",
    "    # The same actions demand different attributes\n",
    "    try:\n",
    "        dimension_reduction_tools[tool_name].fit(X)\n",
    "        X_processed[tool_name] = dimension_reduction_tools[\n",
    "            tool_name].transform(X)\n",
    "    except AttributeError:\n",
    "        X_processed[tool_name] = dimension_reduction_tools[\n",
    "            tool_name].fit_transform(X)\n",
    "    \n",
    "    processing_time[tool_name] = time() - start_time"
   ]
  },
  {
   "cell_type": "markdown",
   "id": "0d9e7fd1",
   "metadata": {},
   "source": [
    "### Какое количество компонент необходимо, чтобы описать 90% дисперсии в PCA?"
   ]
  },
  {
   "cell_type": "code",
   "execution_count": 7,
   "id": "64887737",
   "metadata": {},
   "outputs": [
    {
     "name": "stdout",
     "output_type": "stream",
     "text": [
      "21\n"
     ]
    }
   ],
   "source": [
    "print(dimension_reduction_tools['PCA'].n_components_)"
   ]
  },
  {
   "cell_type": "markdown",
   "id": "7ae5daee",
   "metadata": {},
   "source": [
    "# 3. Обучение тех же моделей на сниженном признаковом пространстве"
   ]
  },
  {
   "cell_type": "code",
   "execution_count": 8,
   "id": "b848d435",
   "metadata": {},
   "outputs": [
    {
     "name": "stdout",
     "output_type": "stream",
     "text": [
      "PCA\n",
      "SVM \n",
      "               precision    recall  f1-score   support\n",
      "\n",
      "           0       1.00      1.00      1.00        33\n",
      "           1       1.00      1.00      1.00        28\n",
      "           2       1.00      1.00      1.00        33\n",
      "           3       1.00      1.00      1.00        34\n",
      "           4       1.00      1.00      1.00        46\n",
      "           5       0.98      0.98      0.98        47\n",
      "           6       0.97      1.00      0.99        35\n",
      "           7       0.97      0.97      0.97        34\n",
      "           8       1.00      0.97      0.98        30\n",
      "           9       0.95      0.95      0.95        40\n",
      "\n",
      "    accuracy                           0.99       360\n",
      "   macro avg       0.99      0.99      0.99       360\n",
      "weighted avg       0.99      0.99      0.99       360\n",
      "\n",
      "Logistic regression \n",
      "               precision    recall  f1-score   support\n",
      "\n",
      "           0       0.94      0.97      0.96        33\n",
      "           1       0.96      0.96      0.96        28\n",
      "           2       0.91      0.97      0.94        33\n",
      "           3       0.97      0.97      0.97        34\n",
      "           4       1.00      0.96      0.98        46\n",
      "           5       0.93      0.91      0.92        47\n",
      "           6       0.92      0.97      0.94        35\n",
      "           7       1.00      0.97      0.99        34\n",
      "           8       0.93      0.93      0.93        30\n",
      "           9       0.95      0.93      0.94        40\n",
      "\n",
      "    accuracy                           0.95       360\n",
      "   macro avg       0.95      0.95      0.95       360\n",
      "weighted avg       0.95      0.95      0.95       360\n",
      "\n",
      "Decision tree \n",
      "               precision    recall  f1-score   support\n",
      "\n",
      "           0       0.86      0.91      0.88        33\n",
      "           1       0.86      0.89      0.88        28\n",
      "           2       0.91      0.88      0.89        33\n",
      "           3       0.94      0.88      0.91        34\n",
      "           4       1.00      0.96      0.98        46\n",
      "           5       0.88      0.79      0.83        47\n",
      "           6       0.89      0.97      0.93        35\n",
      "           7       0.97      0.94      0.96        34\n",
      "           8       0.68      0.87      0.76        30\n",
      "           9       0.78      0.72      0.75        40\n",
      "\n",
      "    accuracy                           0.88       360\n",
      "   macro avg       0.88      0.88      0.88       360\n",
      "weighted avg       0.88      0.88      0.88       360\n",
      "\n",
      "t-SNE\n",
      "SVM \n",
      "               precision    recall  f1-score   support\n",
      "\n",
      "           0       1.00      1.00      1.00        33\n",
      "           1       0.97      1.00      0.98        28\n",
      "           2       1.00      0.94      0.97        33\n",
      "           3       0.97      1.00      0.99        34\n",
      "           4       1.00      1.00      1.00        46\n",
      "           5       0.98      0.98      0.98        47\n",
      "           6       0.97      1.00      0.99        35\n",
      "           7       0.94      1.00      0.97        34\n",
      "           8       0.94      0.97      0.95        30\n",
      "           9       1.00      0.90      0.95        40\n",
      "\n",
      "    accuracy                           0.98       360\n",
      "   macro avg       0.98      0.98      0.98       360\n",
      "weighted avg       0.98      0.98      0.98       360\n",
      "\n",
      "Logistic regression \n",
      "               precision    recall  f1-score   support\n",
      "\n",
      "           0       1.00      1.00      1.00        33\n",
      "           1       0.61      0.71      0.66        28\n",
      "           2       0.86      0.94      0.90        33\n",
      "           3       1.00      0.94      0.97        34\n",
      "           4       0.96      1.00      0.98        46\n",
      "           5       0.98      0.98      0.98        47\n",
      "           6       0.97      1.00      0.99        35\n",
      "           7       0.97      1.00      0.99        34\n",
      "           8       0.85      0.73      0.79        30\n",
      "           9       0.94      0.80      0.86        40\n",
      "\n",
      "    accuracy                           0.92       360\n",
      "   macro avg       0.91      0.91      0.91       360\n",
      "weighted avg       0.92      0.92      0.92       360\n",
      "\n",
      "Decision tree \n",
      "               precision    recall  f1-score   support\n",
      "\n",
      "           0       1.00      1.00      1.00        33\n",
      "           1       0.96      0.96      0.96        28\n",
      "           2       1.00      1.00      1.00        33\n",
      "           3       0.97      1.00      0.99        34\n",
      "           4       0.98      1.00      0.99        46\n",
      "           5       0.98      0.98      0.98        47\n",
      "           6       0.97      1.00      0.99        35\n",
      "           7       1.00      0.97      0.99        34\n",
      "           8       0.97      0.97      0.97        30\n",
      "           9       0.97      0.93      0.95        40\n",
      "\n",
      "    accuracy                           0.98       360\n",
      "   macro avg       0.98      0.98      0.98       360\n",
      "weighted avg       0.98      0.98      0.98       360\n",
      "\n"
     ]
    }
   ],
   "source": [
    "for tool_name, tool in dimension_reduction_tools.items():\n",
    "    print(tool_name)\n",
    "    \n",
    "    X_train, X_test, y_train, y_test = train_test_split(\n",
    "        X_processed[tool_name], y,\n",
    "        test_size=test_size, random_state=random_state)\n",
    "    \n",
    "    for model_name, model_object in models.items():\n",
    "        model_object.fit(X_train, y_train)\n",
    "        y_predict = model_object.predict(X_test)\n",
    "        print(model_name, '\\n', classification_report(y_test, y_predict))"
   ]
  },
  {
   "cell_type": "markdown",
   "id": "00b7d9bd",
   "metadata": {},
   "source": [
    "### Какой алгоритм снижения дает лучшие метрики точности моделей классификации?"
   ]
  },
  {
   "cell_type": "markdown",
   "id": "764d056e",
   "metadata": {},
   "source": [
    "Как можно видеть, для разных моделей классификации результаты отличаются.\n",
    "В целом, алгоритм t-SNE выдал accuracy, больший 0.9 для всех моделей классификации, хотя и для SVM и для логистической регрессии он показал результаты, которые хуже аналогичных результатов, показанных алгоритмом PCA."
   ]
  },
  {
   "cell_type": "markdown",
   "id": "b962b92d",
   "metadata": {},
   "source": [
    "### Есть ли улучшение относительно работы моделей на исходном признаковом пространстве?"
   ]
  },
  {
   "cell_type": "markdown",
   "id": "787e48e3",
   "metadata": {},
   "source": [
    "Однозначно, улучшения наблюдаются у алгоритма дерева решений (повышение accuracy). А вот результаты алгоритмов SVM и логистической регрессии после уменьшения размерности стали хуже."
   ]
  },
  {
   "cell_type": "markdown",
   "id": "d3d09220",
   "metadata": {},
   "source": [
    "# 4. Оценка количества времени, которое требуется для препроцессинга PCA и t-SNE"
   ]
  },
  {
   "cell_type": "code",
   "execution_count": 9,
   "id": "ad336132",
   "metadata": {},
   "outputs": [
    {
     "name": "stdout",
     "output_type": "stream",
     "text": [
      "PCA 0.028592586517333984 с\n",
      "t-SNE 27.184375047683716 с\n"
     ]
    }
   ],
   "source": [
    "for tool_name, tool_processing_time in processing_time.items():\n",
    "    print(tool_name, tool_processing_time, 'с')"
   ]
  }
 ],
 "metadata": {
  "kernelspec": {
   "display_name": "Python 3 (ipykernel)",
   "language": "python",
   "name": "python3"
  },
  "language_info": {
   "codemirror_mode": {
    "name": "ipython",
    "version": 3
   },
   "file_extension": ".py",
   "mimetype": "text/x-python",
   "name": "python",
   "nbconvert_exporter": "python",
   "pygments_lexer": "ipython3",
   "version": "3.11.5"
  }
 },
 "nbformat": 4,
 "nbformat_minor": 5
}
